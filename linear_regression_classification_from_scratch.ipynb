{
  "nbformat": 4,
  "nbformat_minor": 0,
  "metadata": {
    "colab": {
      "provenance": []
    },
    "kernelspec": {
      "name": "python3",
      "display_name": "Python 3"
    },
    "language_info": {
      "name": "python"
    }
  },
  "cells": [
    {
      "cell_type": "code",
      "execution_count": 40,
      "metadata": {
        "id": "LujQ5kRa1nlp"
      },
      "outputs": [],
      "source": [
        "import numpy as np\n",
        "class Linear:\n",
        "  def __init__(self):\n",
        "    self.w=None\n",
        "\n",
        "  def fit(self,xTrain,yTrain):\n",
        "      # x is train samples matrix augmented by ones for bais\n",
        "      #w=(xT.x)-1.xT.y\n",
        "      #xT.x\n",
        "      xTrain=np.array(xTrain)\n",
        "      yTrain=np.array(yTrain)\n",
        "      xTrain=np.append(xTrain, np.ones((xTrain.shape[0], 1)), axis=1)\n",
        "      x_brackets=np.dot(xTrain.T,xTrain)\n",
        "      x_brackets_inverse=np.linalg.inv(x_brackets)\n",
        "      self.w=np.dot(np.dot(x_brackets_inverse,xTrain.T),yTrain)\n",
        "\n",
        "  def predict(self,xTest):\n",
        "    xTest=np.array(xTest)\n",
        "    xTest=np.append(xTest,np.ones((xTest.shape[0],1)), axis=1)\n",
        "    return np.dot(xTest,self.w)\n",
        "\n",
        "  def weights(self):\n",
        "    return self.w\n",
        "\n",
        "  def score(self,xTest,yTest):\n",
        "    return ((self.predict(xTest) - yTest)**2).mean()\n",
        "\n"
      ]
    },
    {
      "cell_type": "markdown",
      "source": [
        "**experiment**\n",
        "\n",
        "---\n",
        "\n",
        "\n",
        "I am going to do an experiment to show how the model computes the weights and what will happen when the data is noised."
      ],
      "metadata": {
        "id": "aEK7-obHBa6U"
      }
    },
    {
      "cell_type": "code",
      "source": [
        "import random\n",
        "\n",
        "def func(x1,x2,x3,x4):\n",
        "  return 3*x1+2*x2+0.5*x3+1.1*x4+1.4\n",
        "def funcWithNoise(x1,x2,x3,x4):\n",
        "  return 3*x1+2*x2+0.5*x3+1.1*x4+1.4+random.random()\n",
        "\n",
        "def createData(lineEq):\n",
        "  xTrain=[]\n",
        "  yTrain=[]\n",
        "  for i in range(100):\n",
        "    x1=random.randint(1,20)\n",
        "    x2=random.randint(1,20)\n",
        "    x3=random.randint(1,20)\n",
        "    x4=random.randint(1,20)\n",
        "    y=lineEq(x1,x2,x3,x4)\n",
        "    xTrain.append([x1,x2,x3,x4])\n",
        "    yTrain.append(y)\n",
        "  return xTrain,yTrain\n",
        "\n",
        "#create train data from line equation  3 x1+2 x2+0.5 x3+ 1.1 x4 + 1.4 without noise\n",
        "xTrain,yTrain=createData(func)\n",
        "\n",
        "#create train data from line equation  3 x1+2 x2+0.5 x3+ 1.1 x4 + 1.4 with noise\n",
        "xTrainN,yTrainN=createData(funcWithNoise)"
      ],
      "metadata": {
        "id": "Y--XXicJ32rk"
      },
      "execution_count": 41,
      "outputs": []
    },
    {
      "cell_type": "code",
      "source": [
        "linear=Linear()\n",
        "linear.fit(xTrain,yTrain)\n",
        "print(\"weights for data without noise= \",linear.weights())"
      ],
      "metadata": {
        "colab": {
          "base_uri": "https://localhost:8080/"
        },
        "id": "Lz74cORs5cja",
        "outputId": "32fabc62-f47b-4fd1-e0ce-f0b5236fffa9"
      },
      "execution_count": 42,
      "outputs": [
        {
          "output_type": "stream",
          "name": "stdout",
          "text": [
            "weights for data without noise=  [3.  2.  0.5 1.1 1.4]\n"
          ]
        }
      ]
    },
    {
      "cell_type": "code",
      "source": [
        "linear.fit(xTrainN,yTrainN)\n",
        "print(\"weights for data with noise= \",linear.weights())"
      ],
      "metadata": {
        "colab": {
          "base_uri": "https://localhost:8080/"
        },
        "id": "x7I6f9RrDe2F",
        "outputId": "5e40d597-c288-4a70-931b-134f2b4f349e"
      },
      "execution_count": 43,
      "outputs": [
        {
          "output_type": "stream",
          "name": "stdout",
          "text": [
            "weights for data with noise=  [2.99562294 2.00425725 0.50361462 1.09988949 1.91826284]\n"
          ]
        }
      ]
    }
  ]
}